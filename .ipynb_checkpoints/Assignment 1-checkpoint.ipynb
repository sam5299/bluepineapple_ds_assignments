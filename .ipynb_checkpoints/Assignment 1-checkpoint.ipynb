{
 "cells": [
  {
   "cell_type": "markdown",
   "metadata": {},
   "source": [
    "## Q1. Write a program to find all perfect no between 1 to n"
   ]
  },
  {
   "cell_type": "markdown",
   "metadata": {},
   "source": []
  },
  {
   "cell_type": "code",
   "execution_count": null,
   "metadata": {},
   "outputs": [
    {
     "name": "stdout",
     "output_type": "stream",
     "text": [
      "Please enter n'th number:10000000\n",
      "6\n",
      "28\n",
      "496\n",
      "8128\n"
     ]
    }
   ],
   "source": [
    "import sys\n",
    "\n",
    "\n",
    "def check_perfect_number(number,rangeno):\n",
    "    sum_of_numbers = 0\n",
    "    for x in range(1,rangeno):\n",
    "        if number%x==0:\n",
    "            sum_of_numbers+=x\n",
    "    if sum_of_numbers == number: return True\n",
    "    return False\n",
    "\n",
    "n = int(input(\"Please enter n'th number:\"))\n",
    "if n>=6:\n",
    "    for x in range(1,n+1):\n",
    "        if check_perfect_number(x,(x//2)+1):\n",
    "            print(x)"
   ]
  },
  {
   "cell_type": "code",
   "execution_count": null,
   "metadata": {},
   "outputs": [],
   "source": [
    "import sys\n",
    "n = int(input('Enter value of N:'))\n",
    "if n>=6:\n",
    "    for x in range(1,n+1):\n",
    "        sum_of = 0\n",
    "        for y in range(1,(x//2)+1):\n",
    "            if x%y==0:\n",
    "                sum_of+=y\n",
    "        if sum_of==x:\n",
    "            print(x)\n",
    "            "
   ]
  },
  {
   "cell_type": "markdown",
   "metadata": {},
   "source": [
    "# "
   ]
  }
 ],
 "metadata": {
  "kernelspec": {
   "display_name": "Python 3",
   "language": "python",
   "name": "python3"
  },
  "language_info": {
   "codemirror_mode": {
    "name": "ipython",
    "version": 3
   },
   "file_extension": ".py",
   "mimetype": "text/x-python",
   "name": "python",
   "nbconvert_exporter": "python",
   "pygments_lexer": "ipython3",
   "version": "3.9.0"
  }
 },
 "nbformat": 4,
 "nbformat_minor": 4
}
